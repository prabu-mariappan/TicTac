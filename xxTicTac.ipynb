{
 "cells": [
  {
   "cell_type": "code",
   "execution_count": 68,
   "metadata": {
    "scrolled": true
   },
   "outputs": [
    {
     "name": "stdout",
     "output_type": "stream",
     "text": [
      "Enter Board Move:\n",
      "1\n",
      "---------------------------\n",
      "|     X |        |        |     \n",
      "\n",
      "---------------------------\n",
      "|       |        |        |     \n",
      "\n",
      "---------------------------\n",
      "|       |        |        |     \n",
      "\n",
      "---------------------------\n"
     ]
    }
   ],
   "source": [
    "from IPython.display import clear_output\n",
    "# Make a global list\n",
    "board =[\" \",\" \",\" \",\" \",\" \",\" \",\" \",\" \",\" \"]\n",
    "def display_board():\n",
    "    \n",
    "    print \"---------------------------\"\n",
    "    i = 0\n",
    "    for x in range(0,3):\n",
    "        print \"|    \",board[i], \"|     \" ,board[i+1] ,\"|     \" , board[i + 2], \"|     \" \"\\n\"\n",
    "        print \"---------------------------\"\n",
    "        i += 3\n",
    "\n",
    "def player_input():\n",
    "    print \"Enter Board Move:\"\n",
    "    inp = int(raw_input())\n",
    "    board[inp -1]  = \"X\"\n",
    "    display_board()\n",
    "player_input()    \n"
   ]
  },
  {
   "cell_type": "code",
   "execution_count": 64,
   "metadata": {},
   "outputs": [
    {
     "data": {
      "text/plain": [
       "'2.7.14 |Anaconda, Inc.| (default, Oct 15 2017, 03:34:40) [MSC v.1500 64 bit (AMD64)]'"
      ]
     },
     "execution_count": 64,
     "metadata": {},
     "output_type": "execute_result"
    }
   ],
   "source": [
    "import sys\n",
    "sys.version"
   ]
  }
 ],
 "metadata": {
  "kernelspec": {
   "display_name": "Python 2",
   "language": "python",
   "name": "python2"
  },
  "language_info": {
   "codemirror_mode": {
    "name": "ipython",
    "version": 2
   },
   "file_extension": ".py",
   "mimetype": "text/x-python",
   "name": "python",
   "nbconvert_exporter": "python",
   "pygments_lexer": "ipython2",
   "version": "2.7.14"
  }
 },
 "nbformat": 4,
 "nbformat_minor": 2
}
